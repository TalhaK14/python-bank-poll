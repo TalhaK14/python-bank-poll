{
 "cells": [
  {
   "cell_type": "code",
   "execution_count": 44,
   "metadata": {},
   "outputs": [],
   "source": [
    "import os\n",
    "import csv"
   ]
  },
  {
   "cell_type": "code",
   "execution_count": 45,
   "metadata": {},
   "outputs": [
    {
     "data": {
      "text/plain": [
       "'..\\\\Downloads\\\\Homework_03-Python_Instructions_PyBank_Resources_budget_data.csv'"
      ]
     },
     "execution_count": 45,
     "metadata": {},
     "output_type": "execute_result"
    }
   ],
   "source": [
    "bank_csv= os.path.join('..', 'Downloads', 'Homework_03-Python_Instructions_PyBank_Resources_budget_data.csv')\n",
    "bank_csv"
   ]
  },
  {
   "cell_type": "code",
   "execution_count": 69,
   "metadata": {},
   "outputs": [
    {
     "name": "stdout",
     "output_type": "stream",
     "text": [
      "Financial Analysis\n",
      "----------------------------\n",
      "Total Months: 86\n",
      "Total: $38382578\n",
      "Average Change: -2315.12\n",
      "Greatest Increase in Profits: Feb-2012 ($1926159)\n",
      "Greatest Decrease in Profits: Sep-2013 ($-2196167)\n"
     ]
    }
   ],
   "source": [
    "total_months = []\n",
    "net_total = []\n",
    "monthly_change = []\n",
    "\n",
    "with open(bank_csv, 'r') as csvfile:\n",
    " \n",
    "    csvreader = csv.reader(csvfile,delimiter=\",\")\n",
    "\n",
    "    header = next(csvreader)  \n",
    "\n",
    "    for row in csvreader: \n",
    "\n",
    "        total_months.append(row[0])\n",
    "        net_total.append(int(row[1]))\n",
    "\n",
    "    for i in range(len(net_total)-1):\n",
    "        \n",
    "        monthly_change.append(net_total[i+1]-net_total[i])\n",
    "        \n",
    "max_value = max(monthly_change)\n",
    "min_value = min(monthly_change)\n",
    "\n",
    "max_month = monthly_change.index(max(monthly_change)) + 1\n",
    "min_month = monthly_change.index(min(monthly_change)) + 1 \n",
    "\n",
    "print(\"Financial Analysis\")\n",
    "print(\"----------------------------\")\n",
    "print(f\"Total Months: {len(total_months)}\")\n",
    "print(f\"Total: ${sum(net_total)}\")\n",
    "print(f\"Average Change: {round(sum(monthly_change)/len(monthly_change),2)}\")\n",
    "print(f\"Greatest Increase in Profits: {total_months[max_month]} (${(str(max_value))})\")\n",
    "print(f\"Greatest Decrease in Profits: {total_months[min_month]} (${(str(min_value))})\")"
   ]
  },
  {
   "cell_type": "code",
   "execution_count": null,
   "metadata": {
    "scrolled": false
   },
   "outputs": [],
   "source": []
  },
  {
   "cell_type": "code",
   "execution_count": null,
   "metadata": {},
   "outputs": [],
   "source": []
  }
 ],
 "metadata": {
  "kernelspec": {
   "display_name": "Python 3",
   "language": "python",
   "name": "python3"
  },
  "language_info": {
   "codemirror_mode": {
    "name": "ipython",
    "version": 3
   },
   "file_extension": ".py",
   "mimetype": "text/x-python",
   "name": "python",
   "nbconvert_exporter": "python",
   "pygments_lexer": "ipython3",
   "version": "3.8.5"
  }
 },
 "nbformat": 4,
 "nbformat_minor": 4
}
