{
 "cells": [
  {
   "cell_type": "code",
   "execution_count": 1,
   "metadata": {},
   "outputs": [],
   "source": [
    "import os\n",
    "import csv"
   ]
  },
  {
   "cell_type": "code",
   "execution_count": 3,
   "metadata": {},
   "outputs": [
    {
     "data": {
      "text/plain": [
       "'..\\\\Downloads\\\\Homework_03-Python_Instructions_PyPoll_Resources_election_data.csv'"
      ]
     },
     "execution_count": 3,
     "metadata": {},
     "output_type": "execute_result"
    }
   ],
   "source": [
    "poll_csv= os.path.join('..', 'Downloads', 'Homework_03-Python_Instructions_PyPoll_Resources_election_data.csv')\n",
    "poll_csv"
   ]
  },
  {
   "cell_type": "code",
   "execution_count": 4,
   "metadata": {},
   "outputs": [
    {
     "name": "stdout",
     "output_type": "stream",
     "text": [
      "Election Results\n",
      "----------------------------\n",
      "Total Votes: 3521001\n",
      "----------------------------\n",
      "Khan: 63.000% (2218231)\n",
      "Correy: 20.000% (704200)\n",
      "Li: 14.000% (492940)\n",
      "O'Tooley: 3.000% (105630)\n",
      "----------------------------\n",
      "Winner: Khan\n",
      "----------------------------\n"
     ]
    }
   ],
   "source": [
    "total_votes = 0 \n",
    "khan_votes = 0\n",
    "correy_votes = 0\n",
    "li_votes = 0\n",
    "otooley_votes = 0\n",
    "\n",
    "with open(poll_csv, 'r') as csvfile:\n",
    "\n",
    "    csvreader = csv.reader(csvfile,delimiter=\",\") \n",
    "\n",
    "    header = next(csvreader)     \n",
    "\n",
    "    for row in csvreader: \n",
    "\n",
    "        total_votes +=1\n",
    "\n",
    "        if row[2] == \"Khan\": \n",
    "            khan_votes +=1\n",
    "        elif row[2] == \"Correy\":\n",
    "            correy_votes +=1\n",
    "        elif row[2] == \"Li\": \n",
    "            li_votes +=1\n",
    "        elif row[2] == \"O'Tooley\":\n",
    "            otooley_votes +=1\n",
    "\n",
    "candidates = [\"Khan\", \"Correy\", \"Li\",\"O'Tooley\"]\n",
    "votes = [khan_votes, correy_votes,li_votes,otooley_votes]\n",
    " \n",
    "dict_candidates_and_votes = dict(zip(candidates,votes))\n",
    "key = max(dict_candidates_and_votes, key=dict_candidates_and_votes.get)\n",
    "\n",
    "khan_percent = (khan_votes/total_votes) *100\n",
    "correy_percent = (correy_votes/total_votes) * 100\n",
    "li_percent = (li_votes/total_votes)* 100\n",
    "otooley_percent = (otooley_votes/total_votes) * 100\n",
    "\n",
    "print(f\"Election Results\")\n",
    "print(f\"----------------------------\")\n",
    "print(f\"Total Votes: {total_votes}\")\n",
    "print(f\"----------------------------\")\n",
    "print(f\"Khan: {khan_percent:.3f}% ({khan_votes})\")\n",
    "print(f\"Correy: {correy_percent:.3f}% ({correy_votes})\")\n",
    "print(f\"Li: {li_percent:.3f}% ({li_votes})\")\n",
    "print(f\"O'Tooley: {otooley_percent:.3f}% ({otooley_votes})\")\n",
    "print(f\"----------------------------\")\n",
    "print(f\"Winner: {key}\")\n",
    "print(f\"----------------------------\")\n"
   ]
  },
  {
   "cell_type": "code",
   "execution_count": null,
   "metadata": {},
   "outputs": [],
   "source": []
  }
 ],
 "metadata": {
  "kernelspec": {
   "display_name": "Python 3",
   "language": "python",
   "name": "python3"
  },
  "language_info": {
   "codemirror_mode": {
    "name": "ipython",
    "version": 3
   },
   "file_extension": ".py",
   "mimetype": "text/x-python",
   "name": "python",
   "nbconvert_exporter": "python",
   "pygments_lexer": "ipython3",
   "version": "3.8.5"
  }
 },
 "nbformat": 4,
 "nbformat_minor": 4
}
